{
 "cells": [
  {
   "cell_type": "markdown",
   "id": "d8dc14a1-f3f2-4f7b-8b64-9d0557cea3d5",
   "metadata": {},
   "source": [
    "# Manipulating Spatial Data in DuckDB\n",
    "\n",
    "This notebook demonstrates a workflow which is to **calculate the ratio of Airbnb listings to the total households in 30 travel-to-work areas (TTWAs) over time in Scotland**. \n",
    "\n",
    "Scotland has 45 TTWAs in total. We only have 30 TTWAs of Airbnb listings records.\n",
    "\n",
    "Temporally, the record covers 2020-2023. We aggregate them in each month. \n",
    "\n",
    "The steps are\n",
    "* open and load a large volume of Airbnb listing data containing geographic information.\n",
    "* create geometry from lat/lng for the Airbnb listings and map them using the correct coordination system\n",
    "* load the Intermediate Zone shapefile which contains household information.\n",
    "* spatial join Airbnb listings to Intermediate Zone\n",
    "* calculate a ratio of Airbnb listings to households for Intermediate Zones every month over the years\n"
   ]
  },
  {
   "cell_type": "markdown",
   "id": "9d218feb-77bf-4e11-b507-a5adefdc70b6",
   "metadata": {},
   "source": [
    "Let's connect to a database. You can use the existing or in-memory one. \n",
    "\n",
    "This time, we will switch to DuckDB's Python API. \n",
    "The syntax is straightforward. You create the connection by **Connect** then use **con.sql([SQL sentences]** to execute DB queries. "
   ]
  },
  {
   "cell_type": "code",
   "execution_count": 1,
   "id": "e58f6c9f-f73f-400f-8e97-628c08e41a73",
   "metadata": {},
   "outputs": [
    {
     "data": {
      "text/plain": [
       "┌────────────────┐\n",
       "│      name      │\n",
       "│    varchar     │\n",
       "├────────────────┤\n",
       "│ listings       │\n",
       "│ listings_focus │\n",
       "└────────────────┘"
      ]
     },
     "execution_count": 1,
     "metadata": {},
     "output_type": "execute_result"
    }
   ],
   "source": [
    "import duckdb as dd\n",
    "\n",
    "# Create / connect to database\n",
    "con = dd.connect('my_database_exercise2.db')\n",
    "con.sql('SHOW TABLES;')\n"
   ]
  },
  {
   "cell_type": "markdown",
   "id": "3ca46d3d-7bda-4d82-89fa-5d376cdb082b",
   "metadata": {},
   "source": [
    "DuckDB has the benefit of reading external files, such as JSON and Parquet very easily. </br>\n",
    "JSON is an unstructured data format while Parquet is used to transfer very large, sometimes terabytes, datasets. </br>\n",
    "They are the key formats of data used in OLAP and cloud-based data services. </br>\n",
    "Efficiently reading, writing and manipulating them are one of the reasons for DuckDB becomes increasingly popular. </br>\n",
    "\n",
    "Here I have a set of *.parquet' files. They are created for all the 30 TTWAs. </br>\n",
    "DuckDB can read them and combine them directly without any overhead such as looping the files or creating a new large combined file. </br>\n",
    "DuckDB connects to pandas and creates a dataframe directly from the combined files in memory making the whole process very efficient. </br>"
   ]
  },
  {
   "cell_type": "code",
   "execution_count": 3,
   "id": "5b98e1fc-455b-48ab-bb1e-086da9243bfe",
   "metadata": {},
   "outputs": [
    {
     "data": {
      "text/plain": [
       "Index(['id', 'listing_url', 'scrape_id', 'last_scraped', 'name', 'description',\n",
       "       'neighborhood_overview', 'picture_url', 'host_id', 'host_url',\n",
       "       'host_name', 'host_since', 'host_location', 'host_about',\n",
       "       'host_response_time', 'host_response_rate', 'host_acceptance_rate',\n",
       "       'host_is_superhost', 'host_thumbnail_url', 'host_picture_url',\n",
       "       'host_neighbourhood', 'host_listings_count',\n",
       "       'host_total_listings_count', 'host_verifications',\n",
       "       'host_has_profile_pic', 'host_identity_verified', 'neighbourhood',\n",
       "       'neighbourhood_cleansed', 'neighbourhood_group_cleansed', 'latitude',\n",
       "       'longitude', 'property_type', 'room_type', 'accommodates', 'bathrooms',\n",
       "       'bathrooms_text', 'bedrooms', 'beds', 'amenities', 'price',\n",
       "       'minimum_nights', 'maximum_nights', 'minimum_minimum_nights',\n",
       "       'maximum_minimum_nights', 'minimum_maximum_nights',\n",
       "       'maximum_maximum_nights', 'minimum_nights_avg_ntm',\n",
       "       'maximum_nights_avg_ntm', 'calendar_updated', 'has_availability',\n",
       "       'availability_30', 'availability_60', 'availability_90',\n",
       "       'availability_365', 'calendar_last_scraped', 'number_of_reviews',\n",
       "       'number_of_reviews_ltm', 'number_of_reviews_l30d', 'first_review',\n",
       "       'last_review', 'review_scores_rating', 'review_scores_accuracy',\n",
       "       'review_scores_cleanliness', 'review_scores_checkin',\n",
       "       'review_scores_communication', 'review_scores_location',\n",
       "       'review_scores_value', 'instant_bookable',\n",
       "       'calculated_host_listings_count',\n",
       "       'calculated_host_listings_count_entire_homes',\n",
       "       'calculated_host_listings_count_private_rooms',\n",
       "       'calculated_host_listings_count_shared_rooms', 'reviews_per_month'],\n",
       "      dtype='object')"
      ]
     },
     "execution_count": 3,
     "metadata": {},
     "output_type": "execute_result"
    }
   ],
   "source": [
    "df=con.sql(\"SELECT * FROM read_parquet('Data/*.parquet')\").df()\n",
    "df.shape\n",
    "df.columns"
   ]
  },
  {
   "cell_type": "markdown",
   "id": "97b66859-9ddf-46e2-bbba-98f2e8d80af7",
   "metadata": {},
   "source": [
    "You can directly work with dataframe. But for this DB class, let's create a table and use it for in-DB analysis. "
   ]
  },
  {
   "cell_type": "code",
   "execution_count": 4,
   "id": "e40b2bfb-10ff-4abb-8527-fea400a10fcb",
   "metadata": {},
   "outputs": [
    {
     "data": {
      "application/vnd.jupyter.widget-view+json": {
       "model_id": "4294cbd356294e92819ba74ea38b8d5e",
       "version_major": 2,
       "version_minor": 0
      },
      "text/plain": [
       "FloatProgress(value=0.0, layout=Layout(width='auto'), style=ProgressStyle(bar_color='black'))"
      ]
     },
     "metadata": {},
     "output_type": "display_data"
    }
   ],
   "source": [
    "# con.sql (\"drop table listings;\")\n",
    "con.sql(\"create table listings as SELECT * FROM read_parquet('Data/*.parquet')\")"
   ]
  },
  {
   "cell_type": "markdown",
   "id": "51dcf418-1cf4-46a8-9dd0-b71d0e1dcc21",
   "metadata": {},
   "source": [
    "You can check out the database to see if your table is there. "
   ]
  },
  {
   "cell_type": "code",
   "execution_count": 5,
   "id": "9132e20c-c0da-4867-80da-c4f31f492880",
   "metadata": {},
   "outputs": [
    {
     "data": {
      "text/plain": [
       "┌──────────┐\n",
       "│   name   │\n",
       "│ varchar  │\n",
       "├──────────┤\n",
       "│ listings │\n",
       "└──────────┘"
      ]
     },
     "execution_count": 5,
     "metadata": {},
     "output_type": "execute_result"
    }
   ],
   "source": [
    "# Create / connect to database\n",
    "con = dd.connect('my_database_exercise2.db')\n",
    "con.sql('SHOW TABLES;')"
   ]
  },
  {
   "cell_type": "markdown",
   "id": "ddf6c167-abdd-4e40-8641-1fc6858730cc",
   "metadata": {},
   "source": [
    "The table is ready for quering. "
   ]
  },
  {
   "cell_type": "code",
   "execution_count": 6,
   "id": "a4d33799-36ca-4bbf-9233-d5e3beb1ce74",
   "metadata": {},
   "outputs": [
    {
     "data": {
      "text/plain": [
       "┌──────────────┐\n",
       "│ count_star() │\n",
       "│    int64     │\n",
       "├──────────────┤\n",
       "│       319304 │\n",
       "└──────────────┘"
      ]
     },
     "execution_count": 6,
     "metadata": {},
     "output_type": "execute_result"
    }
   ],
   "source": [
    "con.sql(\"select count(*) from listings\")"
   ]
  },
  {
   "cell_type": "markdown",
   "id": "25607d2a-3a98-49ae-a305-b0656357e680",
   "metadata": {},
   "source": [
    "For spatial analysis, we need DuckDB's spatial extensions. </br>\n",
    "DuckDB now supports a wide range of geometrical and spatial operations, such as intersection, within, and spatial join. </br>\n",
    "Please refer to their website for further information. </br>\n",
    "\n",
    "One of the missing parts is the spatial index. </br>\n",
    "The spatial process is very fast even without indexing thanks to DuckDB's unique data structure. \n"
   ]
  },
  {
   "cell_type": "code",
   "execution_count": 2,
   "id": "c014e20e-341f-44ab-8daf-0e036ea3b3b9",
   "metadata": {},
   "outputs": [],
   "source": [
    "# con.install_extension('spatial')\n",
    "con.load_extension('spatial')"
   ]
  },
  {
   "cell_type": "markdown",
   "id": "290a10d3-a38a-4d98-bad1-39a020e701ce",
   "metadata": {},
   "source": [
    "You can also check out a specific table about their fields and field types."
   ]
  },
  {
   "cell_type": "code",
   "execution_count": 3,
   "id": "1e6c094b-310f-4856-bf5c-c49f45566c51",
   "metadata": {},
   "outputs": [
    {
     "data": {
      "text/plain": [
       "┌──────────────────────────────────────────────┬─────────────┬─────────┬─────────┬─────────┬─────────┐\n",
       "│                 column_name                  │ column_type │  null   │   key   │ default │  extra  │\n",
       "│                   varchar                    │   varchar   │ varchar │ varchar │ varchar │ varchar │\n",
       "├──────────────────────────────────────────────┼─────────────┼─────────┼─────────┼─────────┼─────────┤\n",
       "│ id                                           │ BIGINT      │ YES     │ NULL    │ NULL    │ NULL    │\n",
       "│ listing_url                                  │ VARCHAR     │ YES     │ NULL    │ NULL    │ NULL    │\n",
       "│ scrape_id                                    │ BIGINT      │ YES     │ NULL    │ NULL    │ NULL    │\n",
       "│ last_scraped                                 │ VARCHAR     │ YES     │ NULL    │ NULL    │ NULL    │\n",
       "│ name                                         │ VARCHAR     │ YES     │ NULL    │ NULL    │ NULL    │\n",
       "│ description                                  │ VARCHAR     │ YES     │ NULL    │ NULL    │ NULL    │\n",
       "│ neighborhood_overview                        │ VARCHAR     │ YES     │ NULL    │ NULL    │ NULL    │\n",
       "│ picture_url                                  │ VARCHAR     │ YES     │ NULL    │ NULL    │ NULL    │\n",
       "│ host_id                                      │ BIGINT      │ YES     │ NULL    │ NULL    │ NULL    │\n",
       "│ host_url                                     │ VARCHAR     │ YES     │ NULL    │ NULL    │ NULL    │\n",
       "│    ·                                         │   ·         │  ·      │  ·      │  ·      │  ·      │\n",
       "│    ·                                         │   ·         │  ·      │  ·      │  ·      │  ·      │\n",
       "│    ·                                         │   ·         │  ·      │  ·      │  ·      │  ·      │\n",
       "│ review_scores_checkin                        │ DOUBLE      │ YES     │ NULL    │ NULL    │ NULL    │\n",
       "│ review_scores_communication                  │ DOUBLE      │ YES     │ NULL    │ NULL    │ NULL    │\n",
       "│ review_scores_location                       │ DOUBLE      │ YES     │ NULL    │ NULL    │ NULL    │\n",
       "│ review_scores_value                          │ DOUBLE      │ YES     │ NULL    │ NULL    │ NULL    │\n",
       "│ instant_bookable                             │ VARCHAR     │ YES     │ NULL    │ NULL    │ NULL    │\n",
       "│ calculated_host_listings_count               │ BIGINT      │ YES     │ NULL    │ NULL    │ NULL    │\n",
       "│ calculated_host_listings_count_entire_homes  │ BIGINT      │ YES     │ NULL    │ NULL    │ NULL    │\n",
       "│ calculated_host_listings_count_private_rooms │ BIGINT      │ YES     │ NULL    │ NULL    │ NULL    │\n",
       "│ calculated_host_listings_count_shared_rooms  │ BIGINT      │ YES     │ NULL    │ NULL    │ NULL    │\n",
       "│ reviews_per_month                            │ DOUBLE      │ YES     │ NULL    │ NULL    │ NULL    │\n",
       "├──────────────────────────────────────────────┴─────────────┴─────────┴─────────┴─────────┴─────────┤\n",
       "│ 73 rows (20 shown)                                                                       6 columns │\n",
       "└────────────────────────────────────────────────────────────────────────────────────────────────────┘"
      ]
     },
     "execution_count": 3,
     "metadata": {},
     "output_type": "execute_result"
    }
   ],
   "source": [
    "con.sql(\"DESCRIBE listings;\")\n",
    "# con.sql(\"select COLUMN_NAME from information_schema.columns where table_name = 'listings'\")\n",
    "# con.sql(\"SELECT * FROM listings limit 1\")"
   ]
  },
  {
   "cell_type": "code",
   "execution_count": 9,
   "id": "638992b0-6e4d-4942-be00-7530f7a0d034",
   "metadata": {},
   "outputs": [
    {
     "data": {
      "text/plain": [
       "┌─────────────────────────────────────────────────────┐\n",
       "│                    neighbourhood                    │\n",
       "│                       varchar                       │\n",
       "├─────────────────────────────────────────────────────┤\n",
       "│ Edinburgh, EH8 9JW, United Kingdom                  │\n",
       "│ Edinburgh, United Kingdom                           │\n",
       "│ City of Edinburgh, United Kingdom                   │\n",
       "│ Edinburgh , Edinburgh, United Kingdom               │\n",
       "│ Stockbridge Edinburgh , Midlothian, United Kingdom  │\n",
       "│ City of Edinburgh, Edinburgh, United Kingdom        │\n",
       "│ Edinburgh, Lothain, United Kingdom                  │\n",
       "│ Newhaven, Scotland, United Kingdom                  │\n",
       "│ Edinburgh, Scotland, GB, Midlothian, United Kingdom │\n",
       "│ Edinburgh New Town, Edinburgh, United Kingdom       │\n",
       "│                 ·                                   │\n",
       "│                 ·                                   │\n",
       "│                 ·                                   │\n",
       "│ Currie, Edinburgh, United Kingdom                   │\n",
       "│ Edinburgh, ML, United Kingdom                       │\n",
       "│ ., Edinburgh, United Kingdom                        │\n",
       "│ Marchmont, City of Edinburgh, United Kingdom        │\n",
       "│ edinburgh, United Kingdom                           │\n",
       "│ Old Town, United Kingdom                            │\n",
       "│ Edinburgh, Leith, United Kingdom                    │\n",
       "│ Stockbridge, Scotland, United Kingdom               │\n",
       "│ Colinton, Scotland, United Kingdom                  │\n",
       "│ Dalkeith, Scotland, United Kingdom                  │\n",
       "├─────────────────────────────────────────────────────┤\n",
       "│                 145 rows (20 shown)                 │\n",
       "└─────────────────────────────────────────────────────┘"
      ]
     },
     "execution_count": 9,
     "metadata": {},
     "output_type": "execute_result"
    }
   ],
   "source": [
    "con.sql(\"select distinct neighbourhood from listings;\")"
   ]
  },
  {
   "cell_type": "markdown",
   "id": "49352088-fbc4-4180-921a-f7611b2bc01f",
   "metadata": {},
   "source": [
    "The original listing table contains lat/lng fields. They are used to create points for each listing. \n",
    "\n",
    "**ST_Point** is used here to create the lat/lng pair. **ST_geomFromText** is then used to create geometry. I found the lat/lng pair has to be cast to text format. This is not handy. \n",
    "\n",
    "Any geographical data shall have a correct coordination system. \n",
    "You will find most of the dataset, e.g. GPS, JSON, are in WGS84 (epsg:4326).  \n",
    "As we are in the Uk, we use **ST_Transform** to project the data to *British National Grid*, epsg:27700). \n",
    "We then name the geometry filed to *geometry* using **AS**. \n",
    "\n",
    "SQL also helps us **CAST** the *timestamp_dt* field from VARCHAR (String) format to proper date format. \n",
    "This is prepared for aggregating timestamp to month/year. \n",
    "\n",
    "Remember always check whether your transformation gives you correct results by looking at the tables and field types.\n",
    "                                                                                "
   ]
  },
  {
   "cell_type": "code",
   "execution_count": null,
   "id": "3c6e378d-c9eb-4ff6-ba31-a85366ce6c1c",
   "metadata": {},
   "outputs": [],
   "source": [
    "# con.sql(\"select * from listings where city = 'Flotta';\")"
   ]
  },
  {
   "cell_type": "code",
   "execution_count": 10,
   "id": "4faaa3b8-df2a-4634-aa6f-6a85a11b76e5",
   "metadata": {
    "scrolled": true
   },
   "outputs": [
    {
     "data": {
      "text/plain": [
       "┌──────────────┐\n",
       "│ count_star() │\n",
       "│    int64     │\n",
       "├──────────────┤\n",
       "│       319304 │\n",
       "└──────────────┘"
      ]
     },
     "execution_count": 10,
     "metadata": {},
     "output_type": "execute_result"
    }
   ],
   "source": [
    "# con.sql(\"\"\"drop table listings_focus;\"\"\")\n",
    "\n",
    "con.sql(\"\"\"\n",
    "CREATE TABLE IF NOT EXISTS listings_focus  AS\n",
    "    SELECT \n",
    "         ST_Transform(ST_GeomFromText(cast(ST_Point(Latitude, Longitude) as Text)),'epsg:4326','epsg:27700') as geometry,  \n",
    "        CAST(CAST(last_scraped AS DATE) as VARCHAR) AS timestemp_date,\n",
    "        id,        \n",
    "    FROM listings\n",
    "    \"\"\")\n",
    "con.sql(\"SHOW TABLES;\")\n",
    "con.sql(\"\"\"describe listings_focus;\"\"\")\n",
    "con.sql(\"\"\"select count(*) from listings_focus;\"\"\")\n",
    "\n",
    "# --timestamp_dt::TIMESTAMP as timestemp_dt,\n",
    "#Limit 10000\n"
   ]
  },
  {
   "cell_type": "code",
   "execution_count": 4,
   "id": "c8495b16-83ab-4b8e-9a85-17284c2a0e04",
   "metadata": {},
   "outputs": [
    {
     "data": {
      "text/plain": [
       "┌──────────────────────────────────────────────┬────────────────┬───────┐\n",
       "│                   geometry                   │ timestemp_date │  id   │\n",
       "│                   geometry                   │    varchar     │ int64 │\n",
       "├──────────────────────────────────────────────┼────────────────┼───────┤\n",
       "│ POINT (325942.7957244978 674400.0705191917)  │ 2020-12-19     │ 15420 │\n",
       "│ POINT (331615.7940829449 672665.4645382691)  │ 2020-12-31     │ 38628 │\n",
       "│ POINT (325497.76564809796 672318.1912047509) │ 2020-12-19     │ 44009 │\n",
       "│ POINT (326913.3627496188 675397.6574541654)  │ 2020-12-31     │ 44552 │\n",
       "│ POINT (324606.1612042262 672784.5478304323)  │ 2020-12-31     │ 54188 │\n",
       "└──────────────────────────────────────────────┴────────────────┴───────┘"
      ]
     },
     "execution_count": 4,
     "metadata": {},
     "output_type": "execute_result"
    }
   ],
   "source": [
    "con.sql(\"select * from listings_focus limit 5;\")"
   ]
  },
  {
   "cell_type": "code",
   "execution_count": 5,
   "id": "477eb1c2-f0f3-427a-9ee0-0a5b63da974b",
   "metadata": {
    "scrolled": true
   },
   "outputs": [
    {
     "data": {
      "text/html": [
       "<div>\n",
       "<style scoped>\n",
       "    .dataframe tbody tr th:only-of-type {\n",
       "        vertical-align: middle;\n",
       "    }\n",
       "\n",
       "    .dataframe tbody tr th {\n",
       "        vertical-align: top;\n",
       "    }\n",
       "\n",
       "    .dataframe thead th {\n",
       "        text-align: right;\n",
       "    }\n",
       "</style>\n",
       "<table border=\"1\" class=\"dataframe\">\n",
       "  <thead>\n",
       "    <tr style=\"text-align: right;\">\n",
       "      <th></th>\n",
       "      <th>timestemp_date</th>\n",
       "      <th>id</th>\n",
       "      <th>geometry</th>\n",
       "    </tr>\n",
       "  </thead>\n",
       "  <tbody>\n",
       "    <tr>\n",
       "      <th>0</th>\n",
       "      <td>2020-12-19</td>\n",
       "      <td>15420</td>\n",
       "      <td>POINT (325942.7957244978 674400.0705191917)</td>\n",
       "    </tr>\n",
       "    <tr>\n",
       "      <th>1</th>\n",
       "      <td>2020-12-31</td>\n",
       "      <td>38628</td>\n",
       "      <td>POINT (331615.7940829449 672665.4645382691)</td>\n",
       "    </tr>\n",
       "    <tr>\n",
       "      <th>2</th>\n",
       "      <td>2020-12-19</td>\n",
       "      <td>44009</td>\n",
       "      <td>POINT (325497.76564809796 672318.1912047509)</td>\n",
       "    </tr>\n",
       "    <tr>\n",
       "      <th>3</th>\n",
       "      <td>2020-12-31</td>\n",
       "      <td>44552</td>\n",
       "      <td>POINT (326913.3627496188 675397.6574541654)</td>\n",
       "    </tr>\n",
       "    <tr>\n",
       "      <th>4</th>\n",
       "      <td>2020-12-31</td>\n",
       "      <td>54188</td>\n",
       "      <td>POINT (324606.1612042262 672784.5478304323)</td>\n",
       "    </tr>\n",
       "  </tbody>\n",
       "</table>\n",
       "</div>"
      ],
      "text/plain": [
       "  timestemp_date     id                                      geometry\n",
       "0     2020-12-19  15420   POINT (325942.7957244978 674400.0705191917)\n",
       "1     2020-12-31  38628   POINT (331615.7940829449 672665.4645382691)\n",
       "2     2020-12-19  44009  POINT (325497.76564809796 672318.1912047509)\n",
       "3     2020-12-31  44552   POINT (326913.3627496188 675397.6574541654)\n",
       "4     2020-12-31  54188   POINT (324606.1612042262 672784.5478304323)"
      ]
     },
     "execution_count": 5,
     "metadata": {},
     "output_type": "execute_result"
    }
   ],
   "source": [
    "\n",
    "df=con.sql(\"\"\"select * EXCLUDE geometry, ST_AsText(geometry) as geometry from listings_focus;\"\"\").df()\n",
    "# f=con.sql(\"\"\"select * EXCLUDE geometry, ST_GeomFromWKB(geometry) AS geometry from listings_focus;\"\"\").df()\n",
    "df.head()\n"
   ]
  },
  {
   "cell_type": "markdown",
   "id": "2d4ab8b6-b9e9-4f52-b351-0e560fdf8db4",
   "metadata": {},
   "source": [
    "Here I include some extra code to demonstrate how tables with geographic information can be exported, imported and mapped through dataframes in **GeoPandas**. </br>\n",
    "This is useful because </br>\n",
    "(a) Databases like DuckDB are used for processing and manipulating large dataset </br>\n",
    "(b) Visualization normally happen outside the DB. "
   ]
  },
  {
   "cell_type": "code",
   "execution_count": 6,
   "id": "20eee270-4b0b-4eb4-a995-3b00d0586f9f",
   "metadata": {},
   "outputs": [],
   "source": [
    "import geopandas as gpd"
   ]
  },
  {
   "cell_type": "markdown",
   "id": "29831aab-95c8-412f-a35a-8778a7be7b6a",
   "metadata": {},
   "source": [
    "Taking the Dataframe, **GeoPandas** makes the projection and construct geoDataFame. "
   ]
  },
  {
   "cell_type": "code",
   "execution_count": 7,
   "id": "9c632205-2d83-4026-bfbb-b8cb9e5c9110",
   "metadata": {
    "scrolled": true
   },
   "outputs": [
    {
     "data": {
      "text/plain": [
       "(319304, 3)"
      ]
     },
     "execution_count": 7,
     "metadata": {},
     "output_type": "execute_result"
    }
   ],
   "source": [
    "gdf=gpd.GeoDataFrame(df)\n",
    "gdf['geometry'] = gpd.GeoSeries.from_wkt(gdf['geometry'],crs=\"EPSG:27700\")\n",
    "gdf = gdf.set_geometry('geometry')\n",
    "gdf.head()\n",
    "gdf.shape\n",
    "\n"
   ]
  },
  {
   "cell_type": "markdown",
   "id": "8b3cc76c-6464-4344-9abc-2a504d630285",
   "metadata": {},
   "source": [
    "We use Leafmap for visualization. \n",
    "              \n",
    "Leafmap is a Python package for geospatial analysis and interactive mapping in a Jupyter environment.</br>\n",
    "It is powerful because it has six plotting backends, including folium, ipyleaflet, plotly, pydeck, kepler.gl, and heremap.</br>\n",
    "All of them are powerful individually. </br>\n",
    "Go to  __[Leafmap](https://leafmap.org/get-started/)__ for more information. </br>\n",
    "\n",
    "You can try different backends for large data. </br>\n",
    "In our case, the default ipyleaflet backend is struggling. </br>\n",
    "We decide to use __[lonboard](https://github.com/developmentseed/lonboard)__ instead.</br>\n",
    "Lonboard is another emerging library for fast vector data visualization using GPU-based map rendering. </br>\n",
    "It is not yet mature but very fast indeed. \n",
    "              "
   ]
  },
  {
   "cell_type": "code",
   "execution_count": null,
   "id": "5b67996a-1726-41db-acd6-4d9ce85063ac",
   "metadata": {},
   "outputs": [],
   "source": [
    "# import leafmap as leafmap\n",
    "# m = leafmap.Map()\n",
    "# m.add_gdf(gdf, layer_name=\"listings_focus\")\n",
    "# m"
   ]
  },
  {
   "cell_type": "code",
   "execution_count": null,
   "id": "fb072d8f-2afa-46da-a187-ad36333a78c1",
   "metadata": {},
   "outputs": [],
   "source": [
    " # %pip install -U lonboard \n"
   ]
  },
  {
   "cell_type": "code",
   "execution_count": 8,
   "id": "3f8981ef-6c1a-4428-8f26-f6a07e94d18a",
   "metadata": {},
   "outputs": [
    {
     "data": {
      "application/vnd.jupyter.widget-view+json": {
       "model_id": "87522dea69024c56b73542a0179bc169",
       "version_major": 2,
       "version_minor": 1
      },
      "text/plain": [
       "Map(custom_attribution='', layers=(ScatterplotLayer(get_fill_color=[255, 0, 0, 180], get_radius=10.0, table=ar…"
      ]
     },
     "execution_count": 8,
     "metadata": {},
     "output_type": "execute_result"
    }
   ],
   "source": [
    "\n",
    "import leafmap.deckgl as leafmap\n",
    "\n",
    "m = leafmap.Map(zoom=0.8)\n",
    "m.add_gdf(gdf, zoom_to_layer=True, pickable=True)\n",
    "m"
   ]
  },
  {
   "cell_type": "markdown",
   "id": "40bce674-f8d9-4462-b6e7-f2c2e9eb305c",
   "metadata": {},
   "source": [
    "It is convenient to export *DataFrame* to *GeoJSON*. </br>\n",
    "You need to take extra care of the geometry field. </br>\n",
    "It needs to be saved as Text in dataframe then loaded using **from_wkt** in GeoDataFrame. </br>\n",
    "At the moment, it is not perfect. I hope future releases will provide better solution. "
   ]
  },
  {
   "cell_type": "code",
   "execution_count": 9,
   "id": "a9694d6f-fc11-4e70-adaf-f2dc1235479b",
   "metadata": {},
   "outputs": [],
   "source": [
    "df = con.sql(\"\"\"\n",
    "         select * exclude geometry, ST_AsText(geometry) as geometry from listings_focus\n",
    "\n",
    "       \"\"\").to_df()\n",
    "df.shape\n",
    "gdf = gpd.GeoDataFrame(df,geometry= gpd.GeoSeries.from_wkt(df['geometry']),crs=\"EPSG:27700\")#\n",
    "# # gdf.crs\n",
    "gdf.head()\n",
    "gdf.to_file(\"output_data/Listing_focus_pdProjected_full_Edin.geojson\",driver=\"GeoJSON\")"
   ]
  },
  {
   "cell_type": "code",
   "execution_count": 10,
   "id": "2e83d4aa-ce11-48cf-88d9-51153636409c",
   "metadata": {},
   "outputs": [
    {
     "data": {
      "text/plain": [
       "(319304, 3)"
      ]
     },
     "execution_count": 10,
     "metadata": {},
     "output_type": "execute_result"
    }
   ],
   "source": [
    "gdf=gpd.read_file(\"output_data/Listing_focus_pdProjected_full_Edin.geojson\")\n",
    "gdf.head()\n",
    "gdf.shape"
   ]
  },
  {
   "cell_type": "code",
   "execution_count": 11,
   "id": "f477c4e5-1598-46b8-806e-1c592ea3b58b",
   "metadata": {},
   "outputs": [
    {
     "data": {
      "text/plain": [
       "<Projected CRS: EPSG:27700>\n",
       "Name: OSGB36 / British National Grid\n",
       "Axis Info [cartesian]:\n",
       "- E[east]: Easting (metre)\n",
       "- N[north]: Northing (metre)\n",
       "Area of Use:\n",
       "- name: United Kingdom (UK) - offshore to boundary of UKCS within 49°45'N to 61°N and 9°W to 2°E; onshore Great Britain (England, Wales and Scotland). Isle of Man onshore.\n",
       "- bounds: (-9.01, 49.75, 2.01, 61.01)\n",
       "Coordinate Operation:\n",
       "- name: British National Grid\n",
       "- method: Transverse Mercator\n",
       "Datum: Ordnance Survey of Great Britain 1936\n",
       "- Ellipsoid: Airy 1830\n",
       "- Prime Meridian: Greenwich"
      ]
     },
     "execution_count": 11,
     "metadata": {},
     "output_type": "execute_result"
    }
   ],
   "source": [
    "gdf1=gpd.read_file(\"output_data/Listing_focus_pdProjected_full_Edin.geojson\").to_crs(27700)\n",
    "gdf1.crs"
   ]
  },
  {
   "cell_type": "markdown",
   "id": "7ae76294-324c-463a-901b-da562d657571",
   "metadata": {},
   "source": [
    "If in pure Python, we would achieve the goal by joining the Intermediate Zone shapefile with the listing dataframe. </br>\n",
    "Something like this: "
   ]
  },
  {
   "cell_type": "code",
   "execution_count": 13,
   "id": "288b26ef-747b-40ca-832b-f00d8676fcb3",
   "metadata": {
    "scrolled": true
   },
   "outputs": [
    {
     "data": {
      "text/plain": [
       "<Axes: >"
      ]
     },
     "execution_count": 13,
     "metadata": {},
     "output_type": "execute_result"
    },
    {
     "data": {
      "image/png": "[encoded data removed]",
      "text/plain": [
       "<Figure size 640x480 with 1 Axes>"
      ]
     },
     "metadata": {},
     "output_type": "display_data"
    }
   ],
   "source": [
    "gdf2=gpd.read_file('DataShapefiles/SG_IntermediateZone_Bdry_2011.shp')\n",
    "gdf2.crs\n",
    "ax=gdf1.plot()\n",
    "gdf2.plot(ax=ax, facecolor=\"none\", \n",
    "              edgecolor='black', lw=0.7)\n",
    "\n"
   ]
  },
  {
   "cell_type": "code",
   "execution_count": 14,
   "id": "949ea28e-ab98-4bbe-be8b-ee8d6cf8ea2e",
   "metadata": {},
   "outputs": [
    {
     "data": {
      "text/plain": [
       "(319142, 11)"
      ]
     },
     "execution_count": 14,
     "metadata": {},
     "output_type": "execute_result"
    },
    {
     "name": "stdout",
     "output_type": "stream",
     "text": [
      "The history saving thread hit an unexpected error (OperationalError('database is locked')).History will not be written to the database.\n"
     ]
    }
   ],
   "source": [
    "gdf_sel=gdf1.sjoin(gdf2,how='inner',predicate='within')\n",
    "gdf_sel.shape"
   ]
  },
  {
   "cell_type": "markdown",
   "id": "907f4310-d8f4-490a-bc50-edca4b201b83",
   "metadata": {},
   "source": [
    "Now we see how spatial join happens in DuckDB.</br>\n",
    "\n",
    "As illustrated before, we create point geometry from Lat/lng for listings. </br>\n",
    "The project them to *British National Grid*. \n",
    "The timestemps are tidied up. "
   ]
  },
  {
   "cell_type": "code",
   "execution_count": 15,
   "id": "9a0cc067-2ed2-47d1-ab26-4aa2fe790036",
   "metadata": {},
   "outputs": [
    {
     "data": {
      "text/plain": [
       "┌──────────────────────────────────────────────┬───────┬────────────────┐\n",
       "│                   geometry                   │  id   │ timestemp_date │\n",
       "│                   geometry                   │ int64 │    varchar     │\n",
       "├──────────────────────────────────────────────┼───────┼────────────────┤\n",
       "│ POINT (325942.7957244978 674400.0705191917)  │ 15420 │ 2020-12-19     │\n",
       "│ POINT (331615.7940829449 672665.4645382691)  │ 38628 │ 2020-12-31     │\n",
       "│ POINT (325497.76564809796 672318.1912047509) │ 44009 │ 2020-12-19     │\n",
       "└──────────────────────────────────────────────┴───────┴────────────────┘"
      ]
     },
     "execution_count": 15,
     "metadata": {},
     "output_type": "execute_result"
    }
   ],
   "source": [
    "# con.sql(\"\"\"drop table TestSwap; \"\"\")\n",
    "con.sql(\"\"\"\n",
    "    Create table if not exists listings_proj as(\n",
    "        SELECT \n",
    "                ST_Transform(ST_GeomFromText(cast(ST_Point(Latitude, longitude) as Text)),'epsg:4326','epsg:27700') AS geometry,  \n",
    "                CAST(CAST(last_scraped AS DATE) as VARCHAR) AS timestemp_date,\n",
    "                id,        \n",
    "            FROM listings\n",
    "        )\"\"\")\n",
    "con.sql (\"\"\"select geometry, id,timestemp_date FROM listings_proj limit 3\"\"\")\n"
   ]
  },
  {
   "cell_type": "code",
   "execution_count": 16,
   "id": "821f0d94-0718-4af0-acee-70c665e6fe20",
   "metadata": {},
   "outputs": [
    {
     "data": {
      "text/plain": [
       "┌──────────────┐\n",
       "│ count_star() │\n",
       "│    int64     │\n",
       "├──────────────┤\n",
       "│       319304 │\n",
       "└──────────────┘"
      ]
     },
     "execution_count": 16,
     "metadata": {},
     "output_type": "execute_result"
    }
   ],
   "source": [
    "con.sql(\"\"\"show tables\"\"\")\n",
    "con.sql(\"\"\"select count(*) from listings_proj\"\"\")"
   ]
  },
  {
   "cell_type": "markdown",
   "id": "e0e338e2-45b4-462f-a57a-fd236376bd2b",
   "metadata": {},
   "source": [
    "We load the Intermediate Zone shapefile making sure the geometry is loaded using **ST_GeomFromText** after reading them as text. </br>\n",
    "Note that the shapefile is already in British National Grid.\n",
    "We keep *HHCNt2011* which is the total number of households and skip other fields when create the IZs_gen table. "
   ]
  },
  {
   "cell_type": "code",
   "execution_count": null,
   "id": "707fc5d4-f5f2-48e4-a732-0b6c123374bc",
   "metadata": {},
   "outputs": [],
   "source": [
    "con.sql(\"\"\"SELECT ST_GeomFromText(cast(geom as Text)) as geometry from 'DataShapefiles/SG_IntermediateZone_Bdry_2011.shp' limit 3\"\"\")"
   ]
  },
  {
   "cell_type": "code",
   "execution_count": null,
   "id": "a2f25e3f-ff03-4e04-ac2c-cd5e106686b3",
   "metadata": {},
   "outputs": [],
   "source": [
    "# con.sql(\"\"\"drop table IZs\"\"\")\n",
    "\n",
    "con.sql(\"\"\"\n",
    "    Create table if not exists IZs as(SELECT * from 'DataShapefiles/SG_IntermediateZone_Bdry_2011.shp')\n",
    "        \"\"\")\n",
    "con.sql(\"\"\"describe IZs\"\"\")\n",
    "\n",
    "con.sql(\"\"\"SELECT * from IZs limit 3\"\"\")\n"
   ]
  },
  {
   "cell_type": "markdown",
   "id": "7e5e2eaa-b668-4d2e-9243-392c8403ace1",
   "metadata": {},
   "source": []
  },
  {
   "cell_type": "code",
   "execution_count": 20,
   "id": "aa07da0c-98ed-4b30-b174-ec47b43d693e",
   "metadata": {},
   "outputs": [
    {
     "data": {
      "application/vnd.jupyter.widget-view+json": {
       "model_id": "d7f6434025ca47708ed840effd922c32",
       "version_major": 2,
       "version_minor": 0
      },
      "text/plain": [
       "FloatProgress(value=0.0, layout=Layout(width='auto'), style=ProgressStyle(bar_color='black'))"
      ]
     },
     "metadata": {},
     "output_type": "display_data"
    },
    {
     "data": {
      "text/plain": [
       "┌─────────────┬─────────────┬─────────┬─────────┬─────────┬─────────┐\n",
       "│ column_name │ column_type │  null   │   key   │ default │  extra  │\n",
       "│   varchar   │   varchar   │ varchar │ varchar │ varchar │ varchar │\n",
       "├─────────────┼─────────────┼─────────┼─────────┼─────────┼─────────┤\n",
       "│ geometry    │ GEOMETRY    │ YES     │ NULL    │ NULL    │ NULL    │\n",
       "│ Name        │ VARCHAR     │ YES     │ NULL    │ NULL    │ NULL    │\n",
       "│ HHCnt2011   │ BIGINT      │ YES     │ NULL    │ NULL    │ NULL    │\n",
       "└─────────────┴─────────────┴─────────┴─────────┴─────────┴─────────┘"
      ]
     },
     "execution_count": 20,
     "metadata": {},
     "output_type": "execute_result"
    }
   ],
   "source": [
    "# con.sql(\"\"\"drop table IZs_Gen\"\"\")\n",
    "con.sql(\"\"\"\n",
    "    Create table if not exists IZs_Gen as(\n",
    "        (SELECT ST_GeomFromText(cast(geom as Text)) as geometry,name,HHCnt2011 from IZs) \n",
    "        )\"\"\")\n",
    "con.sql (\"\"\"select geometry, name FROM IZs_Gen limit 3;\"\"\")\n",
    "con.sql(\"\"\"describe IZs_Gen\"\"\")\n"
   ]
  },
  {
   "cell_type": "markdown",
   "id": "7bbb8aa0-102d-465c-9960-307c5a293df8",
   "metadata": {},
   "source": [
    "The created IZ_Gen can be visulized either using GeoPandas plot function or Leapmap. "
   ]
  },
  {
   "cell_type": "code",
   "execution_count": 22,
   "id": "816bf4d8-a8d2-4b9a-996b-19c66899e233",
   "metadata": {},
   "outputs": [
    {
     "data": {
      "text/plain": [
       "<Axes: >"
      ]
     },
     "execution_count": 22,
     "metadata": {},
     "output_type": "execute_result"
    },
    {
     "data": {
      "image/png": "[encoded data removed]",
      "text/plain": [
       "<Figure size 640x480 with 1 Axes>"
      ]
     },
     "metadata": {},
     "output_type": "display_data"
    }
   ],
   "source": [
    "\n",
    "\n",
    "df_iz=con.sql(\"SELECT * exclude geometry, st_asText(geometry) as geometry FROM IZs_Gen\").df()\n",
    "df_iz.head()\n",
    "df_iz['geometry'] = gpd.GeoSeries.from_wkt(df_iz['geometry'])\n",
    "gdf_iz=gpd.GeoDataFrame(df_iz, geometry='geometry').set_crs('epsg:27700')\n",
    "gdf_iz.head()\n",
    "gdf_iz.to_file(\"output_data\\\\IZs_fromShape3.geojson\", driver=\"GeoJSON\")\n",
    "gdf_iz.plot()\n"
   ]
  },
  {
   "cell_type": "code",
   "execution_count": 23,
   "id": "8eaf6704-0c72-4de2-8319-f2713ef981e7",
   "metadata": {},
   "outputs": [
    {
     "data": {
      "application/vnd.jupyter.widget-view+json": {
       "model_id": "e978e07dfd294dcba4b7f8e9d3d6052a",
       "version_major": 2,
       "version_minor": 1
      },
      "text/plain": [
       "Map(custom_attribution='', layers=(SolidPolygonLayer(get_fill_color=[0, 0, 255, 128], table=arro3.core.Table\n",
       "-…"
      ]
     },
     "execution_count": 23,
     "metadata": {},
     "output_type": "execute_result"
    }
   ],
   "source": [
    "import leafmap.deckgl as leafmap\n",
    "\n",
    "m = leafmap.Map(center=[20, 0], zoom=1.2)\n",
    "m.add_gdf(gdf_iz, zoom_to_layer=True, pickable=True)\n",
    "m.add_gdf(gdf_sel, zoom_to_layer=True, pickable=True)\n",
    "\n",
    "m"
   ]
  },
  {
   "cell_type": "markdown",
   "id": "f0b89515-c823-4582-83f0-d4b191ec3bb6",
   "metadata": {},
   "source": [
    "We are now ready to select listings within Intermediate Zones. </br>\n",
    "\n",
    "The spatial function used in **ST_intersects**. \n",
    "For all the spatial functions that is supported by DuckDB, please go __[https://duckdb.org/docs/extensions/spatial/functions](https://duckdb.org/docs/extensions/spatial/functions)__ for more information. \n",
    "\n",
    "The syntax is creating a **Join** table. \n",
    "This join table is created based on the *spatial* join function linking listings and Intermediate Zones through their spatial relationships.\n",
    "\n",
    "We count total number of listings within Intermediate Zone boundary. </br>\n",
    "Can you tell the difference to the original listings?"
   ]
  },
  {
   "cell_type": "code",
   "execution_count": 27,
   "id": "c6b5b993-a433-4358-808f-52fe23306e99",
   "metadata": {},
   "outputs": [
    {
     "data": {
      "application/vnd.jupyter.widget-view+json": {
       "model_id": "7b5076b0975c4bb588857a8e13261572",
       "version_major": 2,
       "version_minor": 0
      },
      "text/plain": [
       "FloatProgress(value=0.0, layout=Layout(width='auto'), style=ProgressStyle(bar_color='black'))"
      ]
     },
     "metadata": {},
     "output_type": "display_data"
    },
    {
     "data": {
      "text/plain": [
       "┌────────────┐\n",
       "│ listing_id │\n",
       "│   int64    │\n",
       "├────────────┤\n",
       "│       9943 │\n",
       "└────────────┘"
      ]
     },
     "execution_count": 27,
     "metadata": {},
     "output_type": "execute_result"
    }
   ],
   "source": [
    "##could be very slow\n",
    "con.sql(\"\"\"\n",
    "    SELECT\n",
    "        count(Lsts.id) AS listing_id,\n",
    "    FROM \n",
    "            (SELECT \n",
    "            geometry, id        \n",
    "            FROM listings_proj) as Lsts\n",
    "        JOIN \n",
    "            (SELECT geometry,name, from IZs_Gen) as IZs\n",
    "    \n",
    "        ON ST_intersects(Lsts.geometry, IZs.geometry)\n",
    "    \n",
    "\"\"\")\n",
    "#WHERE IZs.NAME = 'Kintyre Trail';"
   ]
  },
  {
   "cell_type": "markdown",
   "id": "c3ffef49-2c3a-44d0-99e4-7b4386d127dd",
   "metadata": {},
   "source": [
    "Instead of count the total valid listings, we can let the join output the listings_id, timestemp_date and IZ.Name. </br>\n",
    "Note that listing_id and timestemp_date come form listing table (called Lsts now) while IZs comes from Intermediate Zone table (called IZs now). "
   ]
  },
  {
   "cell_type": "code",
   "execution_count": 28,
   "id": "7179c6c8-0c3f-42ce-8998-e87dc8b00f41",
   "metadata": {},
   "outputs": [
    {
     "data": {
      "application/vnd.jupyter.widget-view+json": {
       "model_id": "d85e9a3fd74b4973828281643623371a",
       "version_major": 2,
       "version_minor": 0
      },
      "text/plain": [
       "FloatProgress(value=0.0, layout=Layout(width='auto'), style=ProgressStyle(bar_color='black'))"
      ]
     },
     "metadata": {},
     "output_type": "display_data"
    },
    {
     "data": {
      "text/plain": [
       "┌────────────────────┬────────────────┬─────────────┐\n",
       "│         id         │ timestemp_date │    Name     │\n",
       "│       int64        │    varchar     │   varchar   │\n",
       "├────────────────────┼────────────────┼─────────────┤\n",
       "│           15855362 │ 2022-08-12     │ Mountcastle │\n",
       "│ 687454476659855602 │ 2024-09-13     │ Craigmillar │\n",
       "│           15854215 │ 2023-06-12     │ Shandon     │\n",
       "│           26255549 │ 2024-06-19     │ Shandon     │\n",
       "│ 639080103234736911 │ 2023-05-18     │ Tollcross   │\n",
       "└────────────────────┴────────────────┴─────────────┘"
      ]
     },
     "execution_count": 28,
     "metadata": {},
     "output_type": "execute_result"
    }
   ],
   "source": [
    "  con.sql(\"\"\"      \n",
    "          Select lsts.id, lsts.timestemp_date, IZs.Name from (\n",
    "            (SELECT * from listings_proj) as lsts\n",
    "                JOIN \n",
    "            (Select * from IZs_Gen) as IZs                               \n",
    "            ON ST_intersects(Lsts.geometry, IZs.geometry)     \n",
    "        ) limit 5\n",
    "        \"\"\")"
   ]
  },
  {
   "cell_type": "markdown",
   "id": "3ac1ba23-216f-4def-afce-fecbaa61fc0b",
   "metadata": {},
   "source": [
    "Finally, we can construct a table which contains some more complex calcualations besed on the spatial join table called IZCountLsts. </br>\n",
    "We count total number of listings and a ratio of listings to total households called listingRatio.</br>\n",
    "They are aggregated numbers on not only IZs but also month and year. \n",
    "\n",
    "Can you tell the overall structure of this query?\n"
   ]
  },
  {
   "cell_type": "code",
   "execution_count": 29,
   "id": "73d06ac2-1705-4cf6-afc4-3c48b4f65d26",
   "metadata": {},
   "outputs": [
    {
     "data": {
      "application/vnd.jupyter.widget-view+json": {
       "model_id": "c66ba607d6b4490d8d25b0a587402d4f",
       "version_major": 2,
       "version_minor": 0
      },
      "text/plain": [
       "FloatProgress(value=0.0, layout=Layout(width='auto'), style=ProgressStyle(bar_color='black'))"
      ]
     },
     "metadata": {},
     "output_type": "display_data"
    },
    {
     "data": {
      "text/plain": [
       "┌──────────┬───────────┬───────┬────────────────────────────────────────────┬──────────────────────┐\n",
       "│ listings │   month   │ year  │              intermediateZone              │     listingRatio     │\n",
       "│  int64   │  varchar  │ int64 │                  varchar                   │        double        │\n",
       "├──────────┼───────────┼───────┼────────────────────────────────────────────┼──────────────────────┤\n",
       "│        2 │ April     │  2021 │ Deans Village                              │  0.06281407035175879 │\n",
       "│        6 │ April     │  2021 │ Hillside and Calton Hill                   │   0.2146690518783542 │\n",
       "│        1 │ April     │  2021 │ Dalry and Fountainbridge                   │ 0.027359781121751026 │\n",
       "│        1 │ April     │  2021 │ Inverleith, Goldenacre and Warriston       │  0.05549389567147614 │\n",
       "│        3 │ April     │  2021 │ Stockbridge                                │  0.09157509157509157 │\n",
       "│        2 │ April     │  2021 │ Colinton and Kingsknowe                    │   0.1260239445494644 │\n",
       "│        1 │ April     │  2021 │ Restalrig (Loganlea) and Craigentinny West │ 0.050505050505050504 │\n",
       "│        4 │ April     │  2021 │ Shandon                                    │  0.15891934843067143 │\n",
       "│        1 │ April     │  2021 │ Canongate, Southside and Dumbiedykes       │  0.03455425017277125 │\n",
       "│        7 │ April     │  2021 │ New Town West                              │   0.3619441571871768 │\n",
       "│        · │   ·       │    ·  │       ·                                    │            ·         │\n",
       "│        · │   ·       │    ·  │       ·                                    │            ·         │\n",
       "│        · │   ·       │    ·  │       ·                                    │            ·         │\n",
       "│        3 │ September │  2024 │ New Town East and Gayfield                 │  0.20646937370956642 │\n",
       "│        4 │ September │  2024 │ Great Junction Street                      │  0.14545454545454545 │\n",
       "│        1 │ September │  2024 │ Corstorphine North                         │  0.07763975155279502 │\n",
       "│        1 │ September │  2024 │ Corstorphine South                         │  0.05324813631522897 │\n",
       "│        1 │ September │  2024 │ Old Town, Princes Street and Leith Street  │ 0.038669760247486466 │\n",
       "│        6 │ September │  2024 │ Hillside and Calton Hill                   │   0.2146690518783542 │\n",
       "│        3 │ September │  2024 │ Leith (Albert Street)                      │  0.16172506738544476 │\n",
       "│        3 │ September │  2024 │ Pilrig                                     │  0.16769144773616546 │\n",
       "│        3 │ September │  2024 │ Broughton South                            │  0.14612761811982464 │\n",
       "│        3 │ September │  2024 │ Shandon                                    │  0.11918951132300357 │\n",
       "├──────────┴───────────┴───────┴────────────────────────────────────────────┴──────────────────────┤\n",
       "│ 1198 rows (20 shown)                                                                   5 columns │\n",
       "└──────────────────────────────────────────────────────────────────────────────────────────────────┘"
      ]
     },
     "execution_count": 29,
     "metadata": {},
     "output_type": "execute_result"
    }
   ],
   "source": [
    "con.sql(\"\"\"\n",
    "    WITH IZCountLsts AS (\n",
    "\n",
    "      Select lsts.id, lsts.timestemp_date , IZs.Name, IZs.HHCnt2011 from \n",
    "        (\n",
    "            (SELECT * from listings_proj) as lsts\n",
    "                JOIN \n",
    "            (Select * from IZs_Gen) as IZs                               \n",
    "            ON ST_intersects(Lsts.geometry, IZs.geometry)     \n",
    "        ) limit 5000\n",
    "    )\n",
    "SELECT\n",
    "    count(distinct izcl.id) as listings, \n",
    "    monthname(cast(timestemp_date as date)) as month, \n",
    "    year(cast(timestemp_date as date)) as year, \n",
    "    izcl.Name as intermediateZone, \n",
    "    (count(distinct izcl.id)/izcl.HHCnt2011)*100 as listingRatio\n",
    "FROM\n",
    "    IZCountLsts as izcl\n",
    "group by \n",
    "    intermediateZone, month,year, HHCnt2011\n",
    "Order by \n",
    "    month,year\n",
    ";\n",
    "\"\"\")\n",
    "# strptime(CAST(integer_date AS VARCHAR), '%Y%m%d')\n"
   ]
  },
  {
   "cell_type": "code",
   "execution_count": 30,
   "id": "a2cf3759-10ed-4869-9a94-bf9e12ce6211",
   "metadata": {},
   "outputs": [
    {
     "data": {
      "application/vnd.jupyter.widget-view+json": {
       "model_id": "41540e753b0a42eebe3636cb2ae262ab",
       "version_major": 2,
       "version_minor": 0
      },
      "text/plain": [
       "FloatProgress(value=0.0, layout=Layout(width='auto'), style=ProgressStyle(bar_color='black'))"
      ]
     },
     "metadata": {},
     "output_type": "display_data"
    }
   ],
   "source": [
    "# con.sql(\"\"\"drop table listingGrpMonthly\"\"\")\n",
    "\n",
    "con.sql(\"\"\"\n",
    "Create Table listingGrpMonthly as (\n",
    "    WITH IZCountLsts AS (\n",
    "\n",
    "      Select lsts.id, lsts.timestemp_date , IZs.Name, IZs.HHCnt2011 from \n",
    "        (\n",
    "            (SELECT * from listings_proj) as lsts\n",
    "                JOIN \n",
    "            (Select * from IZs_Gen) as IZs                               \n",
    "            ON ST_intersects(Lsts.geometry, IZs.geometry)     \n",
    "        ) \n",
    "    )\n",
    "SELECT\n",
    "    count(distinct izcl.id) as listings, \n",
    "    monthname(cast(timestemp_date as date)) as month, \n",
    "    year(cast(timestemp_date as date)) as year, \n",
    "    izcl.Name as intermediateZone, \n",
    "    (count(distinct izcl.id)/izcl.HHCnt2011)*100 as listingRatio\n",
    "FROM\n",
    "    IZCountLsts as izcl\n",
    "group by \n",
    "    intermediateZone, month,year, HHCnt2011\n",
    "Order by \n",
    "    month,year\n",
    ")\n",
    ";\"\"\")\n",
    "# strptime(CAST(integer_date AS VARCHAR), '%Y%m%d')\n",
    "#limit 5000\n"
   ]
  },
  {
   "cell_type": "markdown",
   "id": "7f5ce0ab-8868-4715-8d08-329c0474c7f2",
   "metadata": {},
   "source": [
    "Finally, we close the connection the our DB. "
   ]
  },
  {
   "cell_type": "code",
   "execution_count": 32,
   "id": "1bc8eab0-6a79-4cd1-95a5-8b71c4a53ca6",
   "metadata": {},
   "outputs": [],
   "source": [
    "con.close()"
   ]
  },
  {
   "cell_type": "markdown",
   "id": "4d6ece90-e567-46c2-95f6-0b0efe705083",
   "metadata": {},
   "source": [
    "# Some final reflections\n",
    "We illustrate a workflow which uses two geographical datasets to generate more information. </b>\n",
    "The workflow is developed in DuckDB. </b>\n",
    "The output has been stored in a table which will be used by a text-as-query application. </b>\n",
    "\n",
    "Now, it is your turn for some exercises. </b>\n",
    "Please \n",
    "* use the provided Edinburgh listing data and update SQL accordingly\n",
    "* use the same data to calculate **listing per KM area** for each intermediate zone per month year;\n",
    "* show a map of the latest one month **listing per KM area** value\n",
    "\n",
    "\n"
   ]
  }
 ],
 "metadata": {
  "kernelspec": {
   "display_name": "Python 3 (ipykernel)",
   "language": "python",
   "name": "python3"
  },
  "language_info": {
   "codemirror_mode": {
    "name": "ipython",
    "version": 3
   },
   "file_extension": ".py",
   "mimetype": "text/x-python",
   "name": "python",
   "nbconvert_exporter": "python",
   "pygments_lexer": "ipython3",
   "version": "3.13.2"
  }
 },
 "nbformat": 4,
 "nbformat_minor": 5
}
