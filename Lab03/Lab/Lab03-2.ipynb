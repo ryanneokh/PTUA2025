{
 "cells": [
  {
   "cell_type": "markdown",
   "id": "7213dab3-d454-4f0c-a6cf-2d8838f89b2a",
   "metadata": {},
   "source": [
    "# Lab 03-2: Conditional Execution"
   ]
  },
  {
   "cell_type": "markdown",
   "id": "738fa86b-e21f-404b-8aff-ec0a5227a66d",
   "metadata": {},
   "source": [
    "In a second notebook write code for the following experiment\n",
    "\n",
    "- For different values of the convergence criteria [0.01, 0.001, 0.0001, 0.00001] generate 10 estimates of Pi.\n",
    "- For the four different convergence criteria have your script print the following statistics\n",
    "  - average number of draws required from the 10 runs\n",
    "  - standard deviation of the number of draws required from the 10 runs.\n",
    "\n",
    "For this second program do not use a sentinel to cap the number of draws."
   ]
  },
  {
   "cell_type": "code",
   "execution_count": 51,
   "id": "498e870c-d38e-4941-9970-f267d72bf6b4",
   "metadata": {},
   "outputs": [],
   "source": [
    "import random\n",
    "import math\n",
    "import matplotlib.pyplot as plt\n",
    "import numpy as np # to calculate mean and standard deviation"
   ]
  },
  {
   "cell_type": "code",
   "execution_count": 53,
   "id": "f5eb32d3-d181-41c4-b357-307c417c8515",
   "metadata": {},
   "outputs": [],
   "source": [
    "pi = math.pi # our benchmark that we want to estimate using simulation"
   ]
  },
  {
   "cell_type": "code",
   "execution_count": 55,
   "id": "2e30c364-35f2-4a5b-93de-f3ec67dbbed3",
   "metadata": {},
   "outputs": [
    {
     "data": {
      "text/plain": [
       "3.141592653589793"
      ]
     },
     "execution_count": 55,
     "metadata": {},
     "output_type": "execute_result"
    }
   ],
   "source": [
    "pi"
   ]
  },
  {
   "cell_type": "code",
   "execution_count": 57,
   "id": "af980fc1-44ae-4592-a4e0-ad479a5a79d1",
   "metadata": {},
   "outputs": [
    {
     "name": "stdout",
     "output_type": "stream",
     "text": [
      "Convergence Criteria: 0.01\n",
      "  Estimate 1: 4.0\n",
      "  Estimate 2: 4.0\n",
      "  Estimate 3: 3.00990099009901\n",
      "  Estimate 4: 4.0\n",
      "  Estimate 5: 3.051546391752577\n",
      "  Estimate 6: 4.0\n",
      "  Estimate 7: 3.3142857142857145\n",
      "  Estimate 8: 4.0\n",
      "  Estimate 9: 2.9714285714285715\n",
      "  Estimate 10: 4.0\n",
      "\n",
      "  Average number of draws: 38.5\n",
      "  Standard deviation of draws: 45.53734730965343\n",
      "\n",
      "Convergence Criteria: 0.001\n",
      "  Estimate 1: 4.0\n",
      "  Estimate 2: 4.0\n",
      "  Estimate 3: 0.0\n",
      "  Estimate 4: 0.0\n",
      "  Estimate 5: 3.120181405895692\n",
      "  Estimate 6: 4.0\n",
      "  Estimate 7: 4.0\n",
      "  Estimate 8: 4.0\n",
      "  Estimate 9: 0.0\n",
      "  Estimate 10: 4.0\n",
      "\n",
      "  Average number of draws: 90.0\n",
      "  Standard deviation of draws: 264.0\n",
      "\n",
      "Convergence Criteria: 0.0001\n",
      "  Estimate 1: 3.150659133709981\n",
      "  Estimate 2: 4.0\n",
      "  Estimate 3: 3.1373276161780046\n",
      "  Estimate 4: 4.0\n",
      "  Estimate 5: 4.0\n",
      "  Estimate 6: 3.1370640713706406\n",
      "  Estimate 7: 4.0\n",
      "  Estimate 8: 4.0\n",
      "  Estimate 9: 4.0\n",
      "  Estimate 10: 4.0\n",
      "\n",
      "  Average number of draws: 2577.0\n",
      "  Standard deviation of draws: 3933.529661766897\n",
      "\n",
      "Convergence Criteria: 1e-05\n",
      "  Estimate 1: 3.148896173322524\n",
      "  Estimate 2: 4.0\n",
      "  Estimate 3: 3.1396624668743316\n",
      "  Estimate 4: 4.0\n",
      "  Estimate 5: 4.0\n",
      "  Estimate 6: 4.0\n",
      "  Estimate 7: 3.135992222402259\n",
      "  Estimate 8: 4.0\n",
      "  Estimate 9: 4.0\n",
      "  Estimate 10: 3.1410111640143885\n",
      "\n",
      "  Average number of draws: 34346.4\n",
      "  Standard deviation of draws: 42064.17901778186\n",
      "\n"
     ]
    }
   ],
   "source": [
    "# define convergence criteria values\n",
    "convergence_criteria_values = [0.01, 0.001, 0.0001, 0.00001]\n",
    "\n",
    "# function to estimate π using the Monte Carlo method\n",
    "def estimate_pi(convergence_criteria):\n",
    "    n = 0                                                     # number of points falling in the unit circle\n",
    "    d = 0                                                     # number of points falling in the unit square\n",
    "    ratios_Lab03_2 = []                                       # a list that stores the estimate of π at each iteration\n",
    "    xs = []                                                   # a list that stores the x coordinates of the randomly generated points\n",
    "    ys = []                                                   # a list that stores the y coordinates of the randomly generated points\n",
    "    simulating = True                                         # use as a sentinel\n",
    "    while simulating:\n",
    "        x = random.random()                                   # represents a random point on the x-axis bounded by the unit square\n",
    "        y = random.random()                                   # represents a random point on the y-axis bounded by the unit square\n",
    "        xs.append(x)                                          # append newly generated x coordinate to the list xs\n",
    "        ys.append(y)                                          # append newly generated y coordinate to the list ys\n",
    "        if x**2 + y**2 <= 1.0:                                # by Pythagoras theorem, check if the point is inside the unit circle\n",
    "            n += 1                                            # if the point lies inside the circle, n is incremented\n",
    "        d += 1                                                # total number of points d is incremented\n",
    "        ratio_Lab03_2 = 4 * n / d                             # estimate of π based on the fraction of points inside the circle\n",
    "    \n",
    "        ratios_Lab03_2.append(ratio_Lab03_2)                  # append the current estimate to the list\n",
    "\n",
    "        # check if the difference between consecutive estimates is less than the convergence criteria\n",
    "        if len(ratios_Lab03_2) > 1 and abs(ratios_Lab03_2[-1] - ratios_Lab03_2[-2]) < convergence_criteria:\n",
    "            break\n",
    "\n",
    "    return ratios_Lab03_2[-1], d                              # return the last estimate of π and the number of draws needed\n",
    "\n",
    "# generate 10 estimates of Pi for each convergence criteria\n",
    "results = {}                                                  # creates an empty dictionary called `results`\n",
    "draws_data = {}                                               # creates an empty dictionary to store draws data\n",
    "\n",
    "for criteria in convergence_criteria_values:                  # iterates through each value in the list `convergence_criteria_values`\n",
    "    estimates = []                                            # a list to store estimates of π\n",
    "    draws = []                                                # a list to store the number of draws for each estimate\n",
    "    for _ in range(10):                                       # generate 10 estimates for each convergence criterion\n",
    "        estimate, d = estimate_pi(criteria)                   # calls the estimate_pi function\n",
    "        estimates.append(estimate)                            # adds the π estimate to the estimates list\n",
    "        draws.append(d)                                       # adds the number of draws to the draws list\n",
    "    results[criteria] = estimates                             # adds an entry to the results dictionary:  for each convergence criterion, the corresponding 10 π estimates will be stored in results\n",
    "    draws_data[criteria] = draws                              # stores the draws data in the draws_data dictionary\n",
    "\n",
    "# print the results\n",
    "for criteria, estimates in results.items():                   # `for` loop iterates over the `results` dictionary. The `items()` method returns each key-value pair in the dictionary (key = `criteria`, value = `estimates`)\n",
    "    print(f\"Convergence Criteria: {criteria}\")\n",
    "    for i, estimate in enumerate(estimates, 1):               # loops through the `estimates` list while  keeping track of the index (`i`) of the current item (start the index at 1 instead of the default 0)\n",
    "        print(f\"  Estimate {i}: {estimate}\")\n",
    "    print()                                                   # Blank line for better readability\n",
    "\n",
    "    # Calculate the average and standard deviation of draws\n",
    "    avg_draws = np.mean(draws_data[criteria])                  # average number of draws\n",
    "    std_draws = np.std(draws_data[criteria])                   # standard deviation of draws\n",
    "\n",
    "    print(f\"  Average number of draws: {avg_draws}\")\n",
    "    print(f\"  Standard deviation of draws: {std_draws}\")\n",
    "    print()                                                   # Blank line for better readability"
   ]
  },
  {
   "cell_type": "code",
   "execution_count": null,
   "id": "b9740d87-c278-4e00-bfd6-a8e689daa686",
   "metadata": {},
   "outputs": [],
   "source": []
  }
 ],
 "metadata": {
  "kernelspec": {
   "display_name": "Python [conda env:base] *",
   "language": "python",
   "name": "conda-base-py"
  },
  "language_info": {
   "codemirror_mode": {
    "name": "ipython",
    "version": 3
   },
   "file_extension": ".py",
   "mimetype": "text/x-python",
   "name": "python",
   "nbconvert_exporter": "python",
   "pygments_lexer": "ipython3",
   "version": "3.12.7"
  }
 },
 "nbformat": 4,
 "nbformat_minor": 5
}
