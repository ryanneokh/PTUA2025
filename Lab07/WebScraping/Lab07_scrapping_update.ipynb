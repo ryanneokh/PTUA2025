{
 "cells": [
  {
   "cell_type": "markdown",
   "metadata": {},
   "source": [
    "# Lab 07 Web Scrapping\n",
    "## Author: Zixin Feng, PhD student in UBDC"
   ]
  },
  {
   "cell_type": "code",
   "execution_count": 1,
   "metadata": {},
   "outputs": [],
   "source": [
    "import requests\n",
    "from bs4 import BeautifulSoup\n",
    "import pandas as pd\n",
    "import re\n",
    "import ast\n",
    "from pandas import json_normalize\n",
    "from tqdm import tqdm\n",
    "import folium"
   ]
  },
  {
   "cell_type": "markdown",
   "metadata": {},
   "source": [
    "## Starbucks store locator\n",
    "\n",
    "- Website: https://www.starbucks.co.uk/store-locator?types=starbucks&latLng=55.8625388%2C-4.284226000000002&zoom=12\n",
    "\n",
    "- Investigate the website and the feature of the URLs.\n",
    "- Get the latitudes, longitudes, addresses, Unique IDs, store names, and openning hours of all the Starbucks in the area below as a DataFrame. \n",
    "- Visualise the stores on map. \n",
    "\n",
    "The boudanries to scrap:\n",
    "\n",
    "- north_bound = 60.8590 N\n",
    "- south_bound = 54.6356 N\n",
    "- west_bound = -7.385 W\n",
    "- east_bound = 1.7834 E"
   ]
  },
  {
   "cell_type": "code",
   "execution_count": null,
   "metadata": {},
   "outputs": [],
   "source": []
  },
  {
   "cell_type": "code",
   "execution_count": null,
   "metadata": {},
   "outputs": [],
   "source": []
  }
 ],
 "metadata": {
  "kernelspec": {
   "display_name": "Python 3",
   "language": "python",
   "name": "python3"
  },
  "language_info": {
   "codemirror_mode": {
    "name": "ipython",
    "version": 3
   },
   "file_extension": ".py",
   "mimetype": "text/x-python",
   "name": "python",
   "nbconvert_exporter": "python",
   "pygments_lexer": "ipython3",
   "version": "3.8.8"
  }
 },
 "nbformat": 4,
 "nbformat_minor": 4
}
