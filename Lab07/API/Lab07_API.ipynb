{
 "cells": [
  {
   "cell_type": "markdown",
   "id": "a0d41bc8",
   "metadata": {},
   "source": [
    "# Lab 7: API, Online Data Extraction/Scraping by Python\n",
    "## Author: Yue Li, PhD student in UBDC"
   ]
  },
  {
   "cell_type": "code",
   "execution_count": 1,
   "id": "618fdff1",
   "metadata": {},
   "outputs": [
    {
     "name": "stderr",
     "output_type": "stream",
     "text": [
      "/Users/qzhao/opt/anaconda3/lib/python3.8/site-packages/geopandas/_compat.py:111: UserWarning: The Shapely GEOS version (3.9.1-CAPI-1.14.2) is incompatible with the GEOS version PyGEOS was compiled with (3.10.1-CAPI-1.16.0). Conversions between both will be slow.\n",
      "  warnings.warn(\n"
     ]
    }
   ],
   "source": [
    "import requests\n",
    "import json\n",
    "import pandas as pd\n",
    "import geopandas as gpd\n",
    "import matplotlib.pyplot as plt\n",
    "import contextily as ctx"
   ]
  },
  {
   "cell_type": "markdown",
   "id": "c312da34",
   "metadata": {},
   "source": [
    "## Glasgow traffic API\n",
    "Glasgow city council provides an API to share the traffic flow information from existing traffic sensors: https://developer.glasgow.gov.uk/api-details#api=traffic&operation=movementcurrent \n",
    "\n",
    "#### Get the traffic sensor locations: `https://api.glasgow.gov.uk/traffic/v1/movement/sites`"
   ]
  },
  {
   "cell_type": "code",
   "execution_count": 1,
   "id": "22341940",
   "metadata": {},
   "outputs": [],
   "source": [
    "# Convert the rerutned data from dict to dataframe"
   ]
  },
  {
   "cell_type": "markdown",
   "id": "b1108580",
   "metadata": {},
   "source": [
    "### Then map the sensors"
   ]
  },
  {
   "cell_type": "code",
   "execution_count": 2,
   "id": "67925a2b",
   "metadata": {},
   "outputs": [],
   "source": [
    "# Create a geodataframe\n",
    "# Set coordinate reference system\n",
    "# Reprojecting\n",
    "\n",
    "# Fliter the sensors via locations\n",
    "# Create static and interactive map "
   ]
  },
  {
   "cell_type": "code",
   "execution_count": null,
   "id": "bcc096fb",
   "metadata": {},
   "outputs": [],
   "source": []
  }
 ],
 "metadata": {
  "kernelspec": {
   "display_name": "Python 3",
   "language": "python",
   "name": "python3"
  },
  "language_info": {
   "codemirror_mode": {
    "name": "ipython",
    "version": 3
   },
   "file_extension": ".py",
   "mimetype": "text/x-python",
   "name": "python",
   "nbconvert_exporter": "python",
   "pygments_lexer": "ipython3",
   "version": "3.8.8"
  }
 },
 "nbformat": 4,
 "nbformat_minor": 5
}
